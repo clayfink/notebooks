{
 "cells": [
  {
   "cell_type": "code",
   "execution_count": 1,
   "metadata": {
    "collapsed": false
   },
   "outputs": [
    {
     "name": "stdout",
     "output_type": "stream",
     "text": [
      "Populating the interactive namespace from numpy and matplotlib\n"
     ]
    }
   ],
   "source": [
    "import sys\n",
    "sys.path.append('../py')\n",
    "\n",
    "%pylab inline\n",
    "import os\n",
    "import cPickle as pk\n",
    "from pymongo import MongoClient\n",
    "from itertools import groupby\n",
    "from datetime import datetime, timedelta\n",
    "from utils import read_tweets_as_time_series\n",
    "import pandas"
   ]
  },
  {
   "cell_type": "code",
   "execution_count": 2,
   "metadata": {
    "collapsed": true
   },
   "outputs": [],
   "source": [
    "count_file_name = '/Users/finkcr1/data/bbog-topic-analysis/monthly_user_tweet_counts.pickle'\n",
    "if not os.path.exists(count_file_name):\n",
    "    client = MongoClient('finkcr1-ls1')\n",
    "    db = client.get_database('naija_tweets')\n",
    "    pipeline = [\n",
    "        {\n",
    "            '$match':{\n",
    "                'account_id':{\n",
    "                    '$in':monitored_users},'time_stamp':{'$gte':datetime(2013,1,1)}, \n",
    "                           'time_stamp':{'$lt':datetime(2015,11,1)}\n",
    "            }\n",
    "        }, \n",
    "        {\n",
    "            '$group':{\n",
    "                '_id':{\n",
    "                    'account_id':'$account_id','year':{\n",
    "                        '$year':'$time_stamp'},'month':{'$month':'$time_stamp'}},'count':{'$sum':1}\n",
    "            }\n",
    "        }\n",
    "    ]\n",
    "    monthy_user_tweet_counts = [u for u in db.get_collection('tweet').aggregate(pipeline, allowDiskUse=True)]\n",
    "    \n",
    "    with open('/Users/finkcr1/data/bbog-topic-analysis/monthly_user_tweet_counts.pickle','wb') as f:\n",
    "        pk.dump(monthy_user_tweet_counts, f)\n",
    "else:\n",
    "    with open('/Users/finkcr1/data/bbog-topic-analysis/monthly_user_tweet_counts.pickle','rb') as f:\n",
    "        monthy_user_tweet_counts = pk.load(f)"
   ]
  },
  {
   "cell_type": "code",
   "execution_count": 38,
   "metadata": {
    "collapsed": false
   },
   "outputs": [],
   "source": [
    "bbog_tweets = read_tweets_as_time_series(\n",
    "    '/Users/finkcr1/data/bbog-topic-analysis/chibok-girls-tags-20161213-results.txt')\n",
    "bbog_users = {t[1] for t in bbog_tweets if t[0] < datetime(2014,5,15)}"
   ]
  },
  {
   "cell_type": "code",
   "execution_count": 37,
   "metadata": {
    "collapsed": false
   },
   "outputs": [
    {
     "name": "stdout",
     "output_type": "stream",
     "text": [
      "Set 1: We have 23562 VAW tweets from 9320 users from 2013-10-01 to 2014-04-15\n",
      "Set 2: We have 34809 VAW tweets from 12714 users from 2014-05-15 to 2014-11-01\n",
      "10845 topical users in set 2 that were not in set 1\n",
      "7451 topical users in set 1 that were not in set 2\n"
     ]
    }
   ],
   "source": [
    "# Read in VAW tweets\n",
    "topical_tweets1 = read_tweets_as_time_series(\n",
    "    '/Volumes/redd_programs/Minerva/bbog-topic-analysis/retrieval-results/vaw-20131001-20140415-bim-query-30-100-10000-results.txt')\n",
    "topical_users1 = {t[1] for t in topical_tweets1}\n",
    "\n",
    "print 'Set 1: We have %d VAW tweets from %d users from %s to %s' % (\n",
    "    len(topical_tweets1), len(topical_users1), topical_tweets1[0][0].date(), topical_tweets1[-1][0].date())\n",
    "\n",
    "# Read in VAW tweets\n",
    "topical_tweets2 = read_tweets_as_time_series(\n",
    "    '/Volumes/redd_programs/Minerva/bbog-topic-analysis/retrieval-results/vaw-20140515-20141101-bim-query-50-100-10000-results.txt')\n",
    "topical_users2 = {t[1] for t in topical_tweets2}\n",
    "\n",
    "print 'Set 2: We have %d VAW tweets from %d users from %s to %s' % (\n",
    "    len(topical_tweets2), len(topical_users2), topical_tweets2[0][0].date(), topical_tweets2[-1][0].date())\n",
    "\n",
    "topical_users2_only = topical_users2.difference(topical_users1)\n",
    "topical_users1_only = topical_users1.difference(topical_users2)\n",
    "\n",
    "print '%d topical users in set 2 that were not in set 1' % len(topical_users2_only)\n",
    "print '%d topical users in set 1 that were not in set 2' % len(topical_users1_only)"
   ]
  },
  {
   "cell_type": "code",
   "execution_count": 39,
   "metadata": {
    "collapsed": false
   },
   "outputs": [
    {
     "name": "stdout",
     "output_type": "stream",
     "text": [
      "We have 25067 active monitored users.\n"
     ]
    }
   ],
   "source": [
    "active_users = set()\n",
    "\n",
    "func = lambda x: x['_id']['account_id']\n",
    "\n",
    "for k, v in groupby(sorted(monthy_user_tweet_counts, key=func), func):\n",
    "    account_id = k\n",
    "    monthly_counts = list(v)\n",
    "    months = set(sorted([datetime(u['_id']['year'],u['_id']['month'], 1) for u in monthly_counts]))\n",
    "    if (len([m for m in months if datetime(2013,10,1) <= m < datetime(2014,5,15)]) > 1 \n",
    "    and len([m for m in months if datetime(2014,5,15) <= m < datetime(2014,10,1)]) > 1 \n",
    "    and datetime(2014,1,1) in months):\n",
    "        active_users.add(k)\n",
    "\n",
    "\n",
    "print \"We have %d active monitored users.\" % len(active_users)"
   ]
  },
  {
   "cell_type": "code",
   "execution_count": 40,
   "metadata": {
    "collapsed": false
   },
   "outputs": [
    {
     "name": "stdout",
     "output_type": "stream",
     "text": [
      "Set 1: We have 2796 monitored topical users and 22271 non-topical users\n",
      "1684 topical users active in set 1 only\n"
     ]
    }
   ],
   "source": [
    "monitored_topical_users1 = active_users.intersection(topical_users1)\n",
    "monitored_non_topical_users1 = active_users.difference(topical_users1)\n",
    "\n",
    "\n",
    "print \"Set 1: We have %d monitored topical users and %d non-topical users\" % (len(monitored_topical_users1), \n",
    "                                                                      len(monitored_non_topical_users1))\n",
    "\n",
    "monitored_topical_users1_only = topical_users1_only.intersection(active_users)\n",
    "\n",
    "print \"%d topical users active in set 1 only\" % len(monitored_topical_users1_only)"
   ]
  },
  {
   "cell_type": "code",
   "execution_count": 41,
   "metadata": {
    "collapsed": false
   },
   "outputs": [
    {
     "name": "stdout",
     "output_type": "stream",
     "text": [
      "Set 2: We have 3958 monitored topical users and 21109 non-topical users\n",
      "2846 topical users active in set 2 only\n"
     ]
    }
   ],
   "source": [
    "monitored_topical_users2 = active_users.intersection(topical_users2)\n",
    "monitored_non_topical_users2 = active_users.difference(topical_users2)\n",
    "\n",
    "print \"Set 2: We have %d monitored topical users and %d non-topical users\" % (len(monitored_topical_users2), \n",
    "                                                                      len(monitored_non_topical_users2))\n",
    "\n",
    "monitored_topical_users2_only = topical_users2_only.intersection(active_users)\n",
    "\n",
    "print \"%d topical users active in set 2 only\" % len(monitored_topical_users2_only)"
   ]
  },
  {
   "cell_type": "code",
   "execution_count": 42,
   "metadata": {
    "collapsed": true
   },
   "outputs": [],
   "source": [
    "monitored_bbog_users = bbog_users.intersection(active_users)\n",
    "monitored_non_bbog_users = active_users.difference(bbog_users)"
   ]
  },
  {
   "cell_type": "code",
   "execution_count": 43,
   "metadata": {
    "collapsed": true
   },
   "outputs": [],
   "source": [
    "# partition users into sets\n",
    "not_vaw1 = monitored_non_topical_users1\n",
    "vaw1 = monitored_topical_users1\n",
    "not_bbog = monitored_non_bbog_users\n",
    "bbog = monitored_bbog_users\n",
    "not_vaw2 = monitored_non_topical_users2\n",
    "vaw2 = monitored_topical_users2\n",
    "vaw2_and_not_vaw1 = vaw2.difference(vaw1)\n",
    "\n",
    "not_vaw1_and_not_bbog = not_vaw1.intersection(not_bbog)\n",
    "not_vaw1_and_bbog = not_vaw1.intersection(bbog)\n",
    "vaw1_and_not_bbog = vaw1.intersection(not_bbog)\n",
    "vaw1_and_bbog = vaw1.intersection(bbog)\n",
    "\n",
    "N = float(len(active_users))"
   ]
  },
  {
   "cell_type": "code",
   "execution_count": 44,
   "metadata": {
    "collapsed": false
   },
   "outputs": [],
   "source": [
    "def get_conditional_probability(set1, set2, N):\n",
    "    return \"%4.2f (%d)\" % ((len(set1.intersection(set2))/N)/(len(set2)/N), len(set1.intersection(set2)))"
   ]
  },
  {
   "cell_type": "code",
   "execution_count": 45,
   "metadata": {
    "collapsed": false
   },
   "outputs": [
    {
     "data": {
      "text/html": [
       "<div>\n",
       "<table border=\"1\" class=\"dataframe\">\n",
       "  <thead>\n",
       "    <tr style=\"text-align: right;\">\n",
       "      <th></th>\n",
       "      <th>Not VAW1</th>\n",
       "      <th>VAW1</th>\n",
       "    </tr>\n",
       "  </thead>\n",
       "  <tbody>\n",
       "    <tr>\n",
       "      <th>BBOG</th>\n",
       "      <td>0.55 (12153)</td>\n",
       "      <td>0.80 (2235)</td>\n",
       "    </tr>\n",
       "  </tbody>\n",
       "</table>\n",
       "</div>"
      ],
      "text/plain": [
       "          Not VAW1         VAW1\n",
       "BBOG  0.55 (12153)  0.80 (2235)"
      ]
     },
     "execution_count": 45,
     "metadata": {},
     "output_type": "execute_result"
    }
   ],
   "source": [
    "table1 = pandas.DataFrame(index=['BBOG'], columns=['Not VAW1','VAW1'])\n",
    "table1.loc['BBOG']['Not VAW1'] = get_conditional_probability(bbog, not_vaw1, N)\n",
    "table1.loc['BBOG']['VAW1'] = get_conditional_probability(bbog, vaw1, N)\n",
    "table1"
   ]
  },
  {
   "cell_type": "code",
   "execution_count": 46,
   "metadata": {
    "collapsed": false
   },
   "outputs": [
    {
     "data": {
      "text/html": [
       "<div>\n",
       "<table border=\"1\" class=\"dataframe\">\n",
       "  <thead>\n",
       "    <tr style=\"text-align: right;\">\n",
       "      <th></th>\n",
       "      <th>Not VAW1</th>\n",
       "      <th>VAW1</th>\n",
       "      <th>Not BBOG</th>\n",
       "      <th>BBOG</th>\n",
       "      <th>Not VAW1 and Not BBOG</th>\n",
       "      <th>Not VAW1 and BBOG</th>\n",
       "      <th>VAW1 and Not BBOG</th>\n",
       "      <th>VAW1 and BBOG</th>\n",
       "    </tr>\n",
       "  </thead>\n",
       "  <tbody>\n",
       "    <tr>\n",
       "      <th>VAW2</th>\n",
       "      <td>0.13 (2846)</td>\n",
       "      <td>0.40 (1112)</td>\n",
       "      <td>0.10 (1015)</td>\n",
       "      <td>0.20 (2943)</td>\n",
       "      <td>0.09 (896)</td>\n",
       "      <td>0.16 (1950)</td>\n",
       "      <td>0.21 (119)</td>\n",
       "      <td>0.44 (993)</td>\n",
       "    </tr>\n",
       "  </tbody>\n",
       "</table>\n",
       "</div>"
      ],
      "text/plain": [
       "         Not VAW1         VAW1     Not BBOG         BBOG  \\\n",
       "VAW2  0.13 (2846)  0.40 (1112)  0.10 (1015)  0.20 (2943)   \n",
       "\n",
       "     Not VAW1 and Not BBOG Not VAW1 and BBOG VAW1 and Not BBOG VAW1 and BBOG  \n",
       "VAW2            0.09 (896)       0.16 (1950)        0.21 (119)    0.44 (993)  "
      ]
     },
     "execution_count": 46,
     "metadata": {},
     "output_type": "execute_result"
    }
   ],
   "source": [
    "table2 = pandas.DataFrame(index=['VAW2'],\n",
    "                          columns=['Not VAW1', 'VAW1','Not BBOG','BBOG', 'Not VAW1 and Not BBOG', 'Not VAW1 and BBOG', 'VAW1 and Not BBOG',\n",
    "                                 'VAW1 and BBOG'])\n",
    "\n",
    "table2.loc['VAW2']['Not VAW1'] = get_conditional_probability(vaw2, not_vaw1, N)\n",
    "table2.loc['VAW2']['VAW1'] = get_conditional_probability(vaw2, vaw1, N)\n",
    "table2.loc['VAW2']['Not BBOG'] = get_conditional_probability(vaw2, not_bbog, N)\n",
    "table2.loc['VAW2']['BBOG'] = get_conditional_probability(vaw2, bbog, N)\n",
    "table2.loc['VAW2']['Not VAW1 and Not BBOG'] = get_conditional_probability(vaw2, not_vaw1_and_not_bbog, N)\n",
    "table2.loc['VAW2']['Not VAW1 and BBOG'] = get_conditional_probability(vaw2, not_vaw1_and_bbog, N)\n",
    "table2.loc['VAW2']['VAW1 and Not BBOG'] = get_conditional_probability(vaw2, vaw1_and_not_bbog, N)\n",
    "table2.loc['VAW2']['VAW1 and BBOG'] = get_conditional_probability(vaw2, vaw1_and_bbog, N)\n",
    "\n",
    "table2"
   ]
  }
 ],
 "metadata": {
  "anaconda-cloud": {},
  "kernelspec": {
   "display_name": "Python [Root]",
   "language": "python",
   "name": "Python [Root]"
  },
  "language_info": {
   "codemirror_mode": {
    "name": "ipython",
    "version": 2
   },
   "file_extension": ".py",
   "mimetype": "text/x-python",
   "name": "python",
   "nbconvert_exporter": "python",
   "pygments_lexer": "ipython2",
   "version": "2.7.12"
  }
 },
 "nbformat": 4,
 "nbformat_minor": 0
}
